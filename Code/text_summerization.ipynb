{
  "nbformat": 4,
  "nbformat_minor": 0,
  "metadata": {
    "colab": {
      "provenance": []
    },
    "kernelspec": {
      "name": "python3",
      "display_name": "Python 3"
    },
    "language_info": {
      "name": "python"
    }
  },
  "cells": [
    {
      "cell_type": "code",
      "execution_count": null,
      "metadata": {
        "id": "uXSOi5lrLhp5"
      },
      "outputs": [],
      "source": [
        "import numpy as np\n",
        "import pandas as pd\n",
        "import nltk\n",
        "from nltk.tokenize import sent_tokenize, word_tokenize\n",
        "from sklearn.linear_model import LinearRegression"
      ]
    },
    {
      "cell_type": "code",
      "source": [
        "# Load data\n",
        "text = \"\"\"\n",
        "A drunk driver who killed a young woman in a head-on crash while checking his mobile phone has been jailed for six years. Craig Eccleston-Todd, 27, was driving home from a night at a pub when he received a text message. As he was reading or replying to it, he veered across the road while driving round a bend and smashed into Rachel Titleyâ€™s car coming the other way. Craig Eccleston-Todd, 27 (left) was using his mobile phone when he crashed head-on into the car being driven by Rachel Titley, 28 (right). She died later from her injuries . The head-on crash took place in October 2013. Mr Eccleston-Todd's car was barely recognisable (pictured) Police said Eccleston-Todd had drunk at least three or four pints of beer before getting behind the wheel. He was found guilty of causing death by dangerous driving at Portsmouth Crown Court yesterday. Miss Titley, a 28-year-old solicitorâ€™s clerk from Cowes, Isle of Wight, had also spent the evening with friends at a pub but had not drunk any alcohol, police said. She was driving responsibly and there was â€˜nothing she could have done to avoid the collisionâ€™, they added. Lindsay Pennell, prosecuting, said: â€˜Craig Eccleston-Toddâ€™s driving resulted in the tragic death of a young woman, Rachel Titley, a death that could have been avoided. â€˜Mr Eccleston-Todd took the decision to pick up his mobile phone whilst driving and, either reading or replying to this text message, was so distracted that he failed to negotiate a left-hand bend, crossing the central white line into the path of Miss Titleyâ€™s oncoming car. Miss Titley was pulled the wreckage of herÂ Daihatsu Cuore but died later from her injuries in hospital . â€˜Miss Titley [had] a bright future ahead of her. She was also returning home having spent an enjoyable evening with friends and was driving responsibly. â€˜She had arranged to contact her friends when she got home to confirm that she had arrived safely. Her friends sadly never heard from her after they parted company. â€˜Miss Titleyâ€™s death in these circumstances reiterates the danger of using a hand-held mobile phone whilst driving.â€™ Police were unable to take breath or blood tests from Eccleston-Todd immediately, but in tests several hours after the accident he was only marginally under the drink-drive limit. The judge agreed with police that he would have been over the limit at the time his red Citroen hit Miss Titleyâ€™s blue Daihatsu Cuore on a road near Yarmouth, Isle of Wight, on October 11, 2013. His phone records showed he was also texting around the time of the crash. PC Mark Furse, from Hampshire constabularyâ€™s serious collision investigation unit, said: 'Our thoughts are with Rachel's family at this time. She had been out with friends at a pub in Shalfleet that evening, but had not had any alcohol. 'Our investigation showed that there was nothing she could have done to avoid the collision and sadly it cost her her life. 'Mr Eccleston-Todd had left work in Yarmouth and met with friends at a pub where he drank at least three to four pints of lager. He hadn't long left the pub to return home when the collision occurred at around 9.30pm. 'We weren't able to take breath or blood tests from him immediately and although blood taken several hours after the collision showed he was marginally under the limit, we maintain he would have been over the limit at the time of the collision and in summing up today, the judge agreed. 'The analysis of his phone records showed that he was texting on his phone around the time of the collision so it's highly likely this would also have contributed to his dangerous driving and loss of control.' Eccleston-Todd was found guilty of causing death by dangerous driving following a trial at Portsmouth Crown Court (pictured) He added: 'Mr Eccleston-Todd will now spend six years behind bars, but Rachel's family have lost her forever. 'I hope this will make people think twice before drinking any alcohol and getting behind the wheel, or using a phone once they're on the road. 'The dangers of drink driving and driving whilst using a mobile phone are obvious. Those who continue to do so risk spending a substantial time in prison. This case highlights just how tragic the consequences of committing these offences can be.' â€˜Mr Eccleston-Todd will now spend six years behind bars, but Rachelâ€™s family have lost her for ever. I hope this will make people think twice before drinking any alcohol and getting behind the wheel, or using a phone once theyâ€™re on the road. This case highlights just how tragic the consequences of committing these offences can be.â€™ Eccleston-Todd, of Newport, Isle of Wight, was also disqualified from driving for eight yearsÂ after which he will have to complete an extended re-test.\n",
        "\"\"\""
      ],
      "metadata": {
        "id": "zLi-vI6aMBEg"
      },
      "execution_count": null,
      "outputs": []
    },
    {
      "cell_type": "code",
      "source": [
        "# Tokenize sentences\n",
        "sentences = sent_tokenize(text)\n",
        "# Print each sentence on a new line\n",
        "for sentence in sentences:\n",
        "    print(sentence)\n",
        "    print()  # Print an empty line after each sentence"
      ],
      "metadata": {
        "colab": {
          "base_uri": "https://localhost:8080/"
        },
        "id": "UaGzSZL4MMZm",
        "outputId": "7c1a740d-afd0-4550-91d4-cd151e589376"
      },
      "execution_count": null,
      "outputs": [
        {
          "output_type": "stream",
          "name": "stdout",
          "text": [
            "\n",
            "A drunk driver who killed a young woman in a head-on crash while checking his mobile phone has been jailed for six years.\n",
            "\n",
            "Craig Eccleston-Todd, 27, was driving home from a night at a pub when he received a text message.\n",
            "\n",
            "As he was reading or replying to it, he veered across the road while driving round a bend and smashed into Rachel Titleyâ€™s car coming the other way.\n",
            "\n",
            "Craig Eccleston-Todd, 27 (left) was using his mobile phone when he crashed head-on into the car being driven by Rachel Titley, 28 (right).\n",
            "\n",
            "She died later from her injuries .\n",
            "\n",
            "The head-on crash took place in October 2013.\n",
            "\n",
            "Mr Eccleston-Todd's car was barely recognisable (pictured) Police said Eccleston-Todd had drunk at least three or four pints of beer before getting behind the wheel.\n",
            "\n",
            "He was found guilty of causing death by dangerous driving at Portsmouth Crown Court yesterday.\n",
            "\n",
            "Miss Titley, a 28-year-old solicitorâ€™s clerk from Cowes, Isle of Wight, had also spent the evening with friends at a pub but had not drunk any alcohol, police said.\n",
            "\n",
            "She was driving responsibly and there was â€˜nothing she could have done to avoid the collisionâ€™, they added.\n",
            "\n",
            "Lindsay Pennell, prosecuting, said: â€˜Craig Eccleston-Toddâ€™s driving resulted in the tragic death of a young woman, Rachel Titley, a death that could have been avoided.\n",
            "\n",
            "â€˜Mr Eccleston-Todd took the decision to pick up his mobile phone whilst driving and, either reading or replying to this text message, was so distracted that he failed to negotiate a left-hand bend, crossing the central white line into the path of Miss Titleyâ€™s oncoming car.\n",
            "\n",
            "Miss Titley was pulled the wreckage of herÂ Daihatsu Cuore but died later from her injuries in hospital .\n",
            "\n",
            "â€˜Miss Titley [had] a bright future ahead of her.\n",
            "\n",
            "She was also returning home having spent an enjoyable evening with friends and was driving responsibly.\n",
            "\n",
            "â€˜She had arranged to contact her friends when she got home to confirm that she had arrived safely.\n",
            "\n",
            "Her friends sadly never heard from her after they parted company.\n",
            "\n",
            "â€˜Miss Titleyâ€™s death in these circumstances reiterates the danger of using a hand-held mobile phone whilst driving.â€™ Police were unable to take breath or blood tests from Eccleston-Todd immediately, but in tests several hours after the accident he was only marginally under the drink-drive limit.\n",
            "\n",
            "The judge agreed with police that he would have been over the limit at the time his red Citroen hit Miss Titleyâ€™s blue Daihatsu Cuore on a road near Yarmouth, Isle of Wight, on October 11, 2013.\n",
            "\n",
            "His phone records showed he was also texting around the time of the crash.\n",
            "\n",
            "PC Mark Furse, from Hampshire constabularyâ€™s serious collision investigation unit, said: 'Our thoughts are with Rachel's family at this time.\n",
            "\n",
            "She had been out with friends at a pub in Shalfleet that evening, but had not had any alcohol.\n",
            "\n",
            "'Our investigation showed that there was nothing she could have done to avoid the collision and sadly it cost her her life.\n",
            "\n",
            "'Mr Eccleston-Todd had left work in Yarmouth and met with friends at a pub where he drank at least three to four pints of lager.\n",
            "\n",
            "He hadn't long left the pub to return home when the collision occurred at around 9.30pm.\n",
            "\n",
            "'We weren't able to take breath or blood tests from him immediately and although blood taken several hours after the collision showed he was marginally under the limit, we maintain he would have been over the limit at the time of the collision and in summing up today, the judge agreed.\n",
            "\n",
            "'The analysis of his phone records showed that he was texting on his phone around the time of the collision so it's highly likely this would also have contributed to his dangerous driving and loss of control.'\n",
            "\n",
            "Eccleston-Todd was found guilty of causing death by dangerous driving following a trial at Portsmouth Crown Court (pictured) He added: 'Mr Eccleston-Todd will now spend six years behind bars, but Rachel's family have lost her forever.\n",
            "\n",
            "'I hope this will make people think twice before drinking any alcohol and getting behind the wheel, or using a phone once they're on the road.\n",
            "\n",
            "'The dangers of drink driving and driving whilst using a mobile phone are obvious.\n",
            "\n",
            "Those who continue to do so risk spending a substantial time in prison.\n",
            "\n",
            "This case highlights just how tragic the consequences of committing these offences can be.'\n",
            "\n",
            "â€˜Mr Eccleston-Todd will now spend six years behind bars, but Rachelâ€™s family have lost her for ever.\n",
            "\n",
            "I hope this will make people think twice before drinking any alcohol and getting behind the wheel, or using a phone once theyâ€™re on the road.\n",
            "\n",
            "This case highlights just how tragic the consequences of committing these offences can be.â€™ Eccleston-Todd, of Newport, Isle of Wight, was also disqualified from driving for eight yearsÂ after which he will have to complete an extended re-test.\n",
            "\n"
          ]
        }
      ]
    },
    {
      "cell_type": "code",
      "source": [
        "\n",
        "\n",
        "nltk.download('punkt')"
      ],
      "metadata": {
        "colab": {
          "base_uri": "https://localhost:8080/"
        },
        "id": "aSXjleVVMw9e",
        "outputId": "7635167b-1215-48ba-fa57-028c434abd00"
      },
      "execution_count": null,
      "outputs": [
        {
          "output_type": "stream",
          "name": "stderr",
          "text": [
            "[nltk_data] Downloading package punkt to /root/nltk_data...\n",
            "[nltk_data]   Package punkt is already up-to-date!\n"
          ]
        },
        {
          "output_type": "execute_result",
          "data": {
            "text/plain": [
              "True"
            ]
          },
          "metadata": {},
          "execution_count": 17
        }
      ]
    },
    {
      "cell_type": "code",
      "source": [
        "# Tokenize words\n",
        "words = []\n",
        "for sentence in sentences:\n",
        "    words.extend(word_tokenize(sentence.lower()))\n",
        "print(words)"
      ],
      "metadata": {
        "colab": {
          "base_uri": "https://localhost:8080/"
        },
        "id": "xyCly_uFMS9M",
        "outputId": "09e7202b-3ba1-40e4-d55a-a29f70b66697"
      },
      "execution_count": null,
      "outputs": [
        {
          "output_type": "stream",
          "name": "stdout",
          "text": [
            "['a', 'drunk', 'driver', 'who', 'killed', 'a', 'young', 'woman', 'in', 'a', 'head-on', 'crash', 'while', 'checking', 'his', 'mobile', 'phone', 'has', 'been', 'jailed', 'for', 'six', 'years', '.', 'craig', 'eccleston-todd', ',', '27', ',', 'was', 'driving', 'home', 'from', 'a', 'night', 'at', 'a', 'pub', 'when', 'he', 'received', 'a', 'text', 'message', '.', 'as', 'he', 'was', 'reading', 'or', 'replying', 'to', 'it', ',', 'he', 'veered', 'across', 'the', 'road', 'while', 'driving', 'round', 'a', 'bend', 'and', 'smashed', 'into', 'rachel', 'titleyâ€™s', 'car', 'coming', 'the', 'other', 'way', '.', 'craig', 'eccleston-todd', ',', '27', '(', 'left', ')', 'was', 'using', 'his', 'mobile', 'phone', 'when', 'he', 'crashed', 'head-on', 'into', 'the', 'car', 'being', 'driven', 'by', 'rachel', 'titley', ',', '28', '(', 'right', ')', '.', 'she', 'died', 'later', 'from', 'her', 'injuries', '.', 'the', 'head-on', 'crash', 'took', 'place', 'in', 'october', '2013', '.', 'mr', 'eccleston-todd', \"'s\", 'car', 'was', 'barely', 'recognisable', '(', 'pictured', ')', 'police', 'said', 'eccleston-todd', 'had', 'drunk', 'at', 'least', 'three', 'or', 'four', 'pints', 'of', 'beer', 'before', 'getting', 'behind', 'the', 'wheel', '.', 'he', 'was', 'found', 'guilty', 'of', 'causing', 'death', 'by', 'dangerous', 'driving', 'at', 'portsmouth', 'crown', 'court', 'yesterday', '.', 'miss', 'titley', ',', 'a', '28-year-old', 'solicitorâ€™s', 'clerk', 'from', 'cowes', ',', 'isle', 'of', 'wight', ',', 'had', 'also', 'spent', 'the', 'evening', 'with', 'friends', 'at', 'a', 'pub', 'but', 'had', 'not', 'drunk', 'any', 'alcohol', ',', 'police', 'said', '.', 'she', 'was', 'driving', 'responsibly', 'and', 'there', 'was', 'â€˜nothing', 'she', 'could', 'have', 'done', 'to', 'avoid', 'the', 'collisionâ€™', ',', 'they', 'added', '.', 'lindsay', 'pennell', ',', 'prosecuting', ',', 'said', ':', 'â€˜craig', 'eccleston-toddâ€™s', 'driving', 'resulted', 'in', 'the', 'tragic', 'death', 'of', 'a', 'young', 'woman', ',', 'rachel', 'titley', ',', 'a', 'death', 'that', 'could', 'have', 'been', 'avoided', '.', 'â€˜mr', 'eccleston-todd', 'took', 'the', 'decision', 'to', 'pick', 'up', 'his', 'mobile', 'phone', 'whilst', 'driving', 'and', ',', 'either', 'reading', 'or', 'replying', 'to', 'this', 'text', 'message', ',', 'was', 'so', 'distracted', 'that', 'he', 'failed', 'to', 'negotiate', 'a', 'left-hand', 'bend', ',', 'crossing', 'the', 'central', 'white', 'line', 'into', 'the', 'path', 'of', 'miss', 'titleyâ€™s', 'oncoming', 'car', '.', 'miss', 'titley', 'was', 'pulled', 'the', 'wreckage', 'of', 'herâ', 'daihatsu', 'cuore', 'but', 'died', 'later', 'from', 'her', 'injuries', 'in', 'hospital', '.', 'â€˜miss', 'titley', '[', 'had', ']', 'a', 'bright', 'future', 'ahead', 'of', 'her', '.', 'she', 'was', 'also', 'returning', 'home', 'having', 'spent', 'an', 'enjoyable', 'evening', 'with', 'friends', 'and', 'was', 'driving', 'responsibly', '.', 'â€˜she', 'had', 'arranged', 'to', 'contact', 'her', 'friends', 'when', 'she', 'got', 'home', 'to', 'confirm', 'that', 'she', 'had', 'arrived', 'safely', '.', 'her', 'friends', 'sadly', 'never', 'heard', 'from', 'her', 'after', 'they', 'parted', 'company', '.', 'â€˜miss', 'titleyâ€™s', 'death', 'in', 'these', 'circumstances', 'reiterates', 'the', 'danger', 'of', 'using', 'a', 'hand-held', 'mobile', 'phone', 'whilst', 'driving.â€™', 'police', 'were', 'unable', 'to', 'take', 'breath', 'or', 'blood', 'tests', 'from', 'eccleston-todd', 'immediately', ',', 'but', 'in', 'tests', 'several', 'hours', 'after', 'the', 'accident', 'he', 'was', 'only', 'marginally', 'under', 'the', 'drink-drive', 'limit', '.', 'the', 'judge', 'agreed', 'with', 'police', 'that', 'he', 'would', 'have', 'been', 'over', 'the', 'limit', 'at', 'the', 'time', 'his', 'red', 'citroen', 'hit', 'miss', 'titleyâ€™s', 'blue', 'daihatsu', 'cuore', 'on', 'a', 'road', 'near', 'yarmouth', ',', 'isle', 'of', 'wight', ',', 'on', 'october', '11', ',', '2013', '.', 'his', 'phone', 'records', 'showed', 'he', 'was', 'also', 'texting', 'around', 'the', 'time', 'of', 'the', 'crash', '.', 'pc', 'mark', 'furse', ',', 'from', 'hampshire', 'constabularyâ€™s', 'serious', 'collision', 'investigation', 'unit', ',', 'said', ':', \"'our\", 'thoughts', 'are', 'with', 'rachel', \"'s\", 'family', 'at', 'this', 'time', '.', 'she', 'had', 'been', 'out', 'with', 'friends', 'at', 'a', 'pub', 'in', 'shalfleet', 'that', 'evening', ',', 'but', 'had', 'not', 'had', 'any', 'alcohol', '.', \"'our\", 'investigation', 'showed', 'that', 'there', 'was', 'nothing', 'she', 'could', 'have', 'done', 'to', 'avoid', 'the', 'collision', 'and', 'sadly', 'it', 'cost', 'her', 'her', 'life', '.', \"'mr\", 'eccleston-todd', 'had', 'left', 'work', 'in', 'yarmouth', 'and', 'met', 'with', 'friends', 'at', 'a', 'pub', 'where', 'he', 'drank', 'at', 'least', 'three', 'to', 'four', 'pints', 'of', 'lager', '.', 'he', 'had', \"n't\", 'long', 'left', 'the', 'pub', 'to', 'return', 'home', 'when', 'the', 'collision', 'occurred', 'at', 'around', '9.30pm', '.', \"'we\", 'were', \"n't\", 'able', 'to', 'take', 'breath', 'or', 'blood', 'tests', 'from', 'him', 'immediately', 'and', 'although', 'blood', 'taken', 'several', 'hours', 'after', 'the', 'collision', 'showed', 'he', 'was', 'marginally', 'under', 'the', 'limit', ',', 'we', 'maintain', 'he', 'would', 'have', 'been', 'over', 'the', 'limit', 'at', 'the', 'time', 'of', 'the', 'collision', 'and', 'in', 'summing', 'up', 'today', ',', 'the', 'judge', 'agreed', '.', \"'the\", 'analysis', 'of', 'his', 'phone', 'records', 'showed', 'that', 'he', 'was', 'texting', 'on', 'his', 'phone', 'around', 'the', 'time', 'of', 'the', 'collision', 'so', 'it', \"'s\", 'highly', 'likely', 'this', 'would', 'also', 'have', 'contributed', 'to', 'his', 'dangerous', 'driving', 'and', 'loss', 'of', 'control', '.', \"'\", 'eccleston-todd', 'was', 'found', 'guilty', 'of', 'causing', 'death', 'by', 'dangerous', 'driving', 'following', 'a', 'trial', 'at', 'portsmouth', 'crown', 'court', '(', 'pictured', ')', 'he', 'added', ':', \"'mr\", 'eccleston-todd', 'will', 'now', 'spend', 'six', 'years', 'behind', 'bars', ',', 'but', 'rachel', \"'s\", 'family', 'have', 'lost', 'her', 'forever', '.', \"'\", 'i', 'hope', 'this', 'will', 'make', 'people', 'think', 'twice', 'before', 'drinking', 'any', 'alcohol', 'and', 'getting', 'behind', 'the', 'wheel', ',', 'or', 'using', 'a', 'phone', 'once', 'they', \"'re\", 'on', 'the', 'road', '.', \"'the\", 'dangers', 'of', 'drink', 'driving', 'and', 'driving', 'whilst', 'using', 'a', 'mobile', 'phone', 'are', 'obvious', '.', 'those', 'who', 'continue', 'to', 'do', 'so', 'risk', 'spending', 'a', 'substantial', 'time', 'in', 'prison', '.', 'this', 'case', 'highlights', 'just', 'how', 'tragic', 'the', 'consequences', 'of', 'committing', 'these', 'offences', 'can', 'be', '.', \"'\", 'â€˜mr', 'eccleston-todd', 'will', 'now', 'spend', 'six', 'years', 'behind', 'bars', ',', 'but', 'rachelâ€™s', 'family', 'have', 'lost', 'her', 'for', 'ever', '.', 'i', 'hope', 'this', 'will', 'make', 'people', 'think', 'twice', 'before', 'drinking', 'any', 'alcohol', 'and', 'getting', 'behind', 'the', 'wheel', ',', 'or', 'using', 'a', 'phone', 'once', 'theyâ€™re', 'on', 'the', 'road', '.', 'this', 'case', 'highlights', 'just', 'how', 'tragic', 'the', 'consequences', 'of', 'committing', 'these', 'offences', 'can', 'be.â€™', 'eccleston-todd', ',', 'of', 'newport', ',', 'isle', 'of', 'wight', ',', 'was', 'also', 'disqualified', 'from', 'driving', 'for', 'eight', 'yearsâ', 'after', 'which', 'he', 'will', 'have', 'to', 'complete', 'an', 'extended', 're-test', '.']\n"
          ]
        }
      ]
    },
    {
      "cell_type": "code",
      "source": [
        "# Compute word frequency\n",
        "word_freq = {}\n",
        "for word in words:\n",
        "    if word not in word_freq:\n",
        "        word_freq[word] = 1\n",
        "    else:\n",
        "        word_freq[word] += 1"
      ],
      "metadata": {
        "id": "ON7-KwnENEau"
      },
      "execution_count": null,
      "outputs": []
    },
    {
      "cell_type": "code",
      "source": [
        "# Compute sentence scores using linear regression\n",
        "X = np.zeros((len(sentences), len(word_freq)))\n",
        "y = np.zeros(len(sentences))\n",
        "\n",
        "for i, sentence in enumerate(sentences):\n",
        "    for j, word in enumerate(word_freq):\n",
        "        if word in word_tokenize(sentence.lower()):\n",
        "            X[i][j] = 1\n",
        "    y[i] = len(word_tokenize(sentence))\n",
        "\n",
        "regressor = LinearRegression()\n",
        "regressor.fit(X, y)\n",
        "scores = regressor.predict(X)"
      ],
      "metadata": {
        "id": "1d7NuhnQNR3e"
      },
      "execution_count": null,
      "outputs": []
    },
    {
      "cell_type": "code",
      "source": [
        "# Sort sentences by score\n",
        "ranked_sentences = [sentences[i] for i in np.argsort(scores)[::-1]]\n"
      ],
      "metadata": {
        "id": "vqQII6FDNbKe"
      },
      "execution_count": null,
      "outputs": []
    },
    {
      "cell_type": "code",
      "source": [
        "# Generate summary\n",
        "summary = \"\"\n",
        "for sentence in ranked_sentences[:5]:\n",
        "    print(sentence)\n",
        "    print()\n",
        "    summary += sentence\n",
        "\n",
        "#print(summary)"
      ],
      "metadata": {
        "colab": {
          "base_uri": "https://localhost:8080/"
        },
        "id": "CMSzkq17NdSB",
        "outputId": "ce802ad0-66a3-46ad-c92f-79d4ac322d0f"
      },
      "execution_count": null,
      "outputs": [
        {
          "output_type": "stream",
          "name": "stdout",
          "text": [
            "'We weren't able to take breath or blood tests from him immediately and although blood taken several hours after the collision showed he was marginally under the limit, we maintain he would have been over the limit at the time of the collision and in summing up today, the judge agreed.\n",
            "\n",
            "â€˜Mr Eccleston-Todd took the decision to pick up his mobile phone whilst driving and, either reading or replying to this text message, was so distracted that he failed to negotiate a left-hand bend, crossing the central white line into the path of Miss Titleyâ€™s oncoming car.\n",
            "\n",
            "â€˜Miss Titleyâ€™s death in these circumstances reiterates the danger of using a hand-held mobile phone whilst driving.â€™ Police were unable to take breath or blood tests from Eccleston-Todd immediately, but in tests several hours after the accident he was only marginally under the drink-drive limit.\n",
            "\n",
            "This case highlights just how tragic the consequences of committing these offences can be.â€™ Eccleston-Todd, of Newport, Isle of Wight, was also disqualified from driving for eight yearsÂ after which he will have to complete an extended re-test.\n",
            "\n",
            "Eccleston-Todd was found guilty of causing death by dangerous driving following a trial at Portsmouth Crown Court (pictured) He added: 'Mr Eccleston-Todd will now spend six years behind bars, but Rachel's family have lost her forever.\n",
            "\n"
          ]
        }
      ]
    }
  ]
}