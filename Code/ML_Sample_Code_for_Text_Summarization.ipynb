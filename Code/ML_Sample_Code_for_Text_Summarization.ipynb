{
  "nbformat": 4,
  "nbformat_minor": 0,
  "metadata": {
    "colab": {
      "provenance": []
    },
    "kernelspec": {
      "name": "python3",
      "display_name": "Python 3"
    },
    "language_info": {
      "name": "python"
    }
  },
  "cells": [
    {
      "cell_type": "code",
      "execution_count": null,
      "metadata": {
        "id": "oYI6wp5ZWizD"
      },
      "outputs": [],
      "source": [
        "import spacy\n",
        "from spacy.lang.en.stop_words import STOP_WORDS\n",
        "from heapq import nlargest\n",
        "from string import punctuation\n"
      ]
    },
    {
      "cell_type": "code",
      "source": [
        "stopwords = list(STOP_WORDS)\n",
        "stopwords"
      ],
      "metadata": {
        "id": "pVcUS2KMhImm"
      },
      "execution_count": null,
      "outputs": []
    },
    {
      "cell_type": "code",
      "source": [
        "# Word Tokenization\n",
        "nlp = spacy.load('en_core_web_sm')\n",
        "# text = \"\"\"\n",
        "# The plot begins with Nick Carraway, the narrator. He is a young man from Minnesota that goes to New York in 1922 to apprentice in the bond business. He takes up housing in a new rich area of Long Island and feels disconnected from his surroundings. One of his neighbors catches his attention: Jay Gatsby. He is always throwing parties in his mansion.\n",
        "# Nick drives out to the eastside one evening to see his cousin Daisy for dinner. During the event, his cousin and his cousin’s husband introduces Nick to Jordan Baker. She catches his eye, and soon they begin a romantic relationship. Through the course of the romance, Nick learns from Jordan that Tom, Daisy’s husband, is having an affair. Soon after knowing about this situation, the protagonist travels with Tom and his mistress Myrtle to a party. During the fun, Myrtle starts saying bad things about Daisy, and Tom rages and breaks Myrtle’s nose.\n",
        "# Eventually, Nick gets an invitation from Gatsby to come to one of his parties. He meets Jordan there as well. Gatsby appears to be a man with an English accent, young, and smiles with magnetism. As Nick talks to Jordan at the party, he learns that Gatsby was in love with Daisy way back. In fact, the parties are just an act to get Daisy interested in him. Gatsby approaches Nick and asks him to find a way to arrange a meeting with Daisy. Soon, Nick invites Daisy to his apartment for tea, without Daisy knowing that Gatsby will be there. After encountering each other again, they begin an affair.\n",
        "# In the course of time, Tom starts to suspect his wife of cheating on him with Gatsby. At one luncheon, Tom notices that Gatsby is staring at Daisy without inhibition, and determines that he is love with his wife. Despite himself being in an affair, he seems to not be able to fathom that his wife could be engaging in an affair behind his back. This prompts him to take action. He drives his family to New York City, where he meets with Gatsby at a hotel. He tells Gatsby that his relationship with Daisy is special and that nothing can break their relationship. He even tells Daisy to go back with Gatsby to the east side, despite Daisy saying that she still loves Tom. Through these conversations, we realize that Gatsby’s wealth stems mostly from criminal activities that involve selling illegal alcohol and other punishable activities.\n",
        "# Daisy and Gatsby drive home, and Myrtle comes out on the street, as she thinks it is Tom picking her up at a gas station. Daisy hits Myrtle and kills her, as she was driving the car. However, Gatsby decides to take the blame for the accident. He does it to impress Daisy and to see if she will be with him. Yet, this does not change her mind, and she goes back to Tom shortly after.\n",
        "# Tom, Jordan, Nick, and the husband of Myrtle, George, investigates the accident scene, and determine that Gatsby’s car killed Myrtle. George even believes that Gatsby was Myrtle’s lover as well. During this process, Nick breaks up with Jordan, as she seems unsympathetic to what has occured.\n",
        "# Through conversations with Gatsby and the other characters, we learn that Gatsby was in love with Daisy before Tom married her. He was an officer in the army, and he was sent out to battle in WWI. When he came back from the War, he was determined to win back the heart of Daisy. \n",
        "# A day after the car accident, George murders Gatsby in his swimming pool. He promptly shoots himself as well. The police arrive, but intentionally leave out many facts in the report—probably to safeguard relationships with rich people. Nick arranges a funeral for Gatsby, but no one comes out of fear and detachment. Only Gatsby’s father shows up and he presents Nick a plan Gatsby made as a child to improve himself. After all these events occurred, Nick gives up on New York altogether, and goes back to the Midwest.\n",
        "# \"\"\"\n",
        "text = \"\"\"\n",
        "By . Associated Press . PUBLISHED: . 14:11 EST, 25 October 2013 . | . UPDATED: . 15:36 EST, 25 October 2013 . The bishop of the Fargo Catholic Diocese in North Dakota has exposed potentially hundreds of church members in Fargo, Grand Forks and Jamestown to the hepatitis A virus in late September and early October. The state Health Department has issued an advisory of exposure for anyone who attended five churches and took communion. Bishop John Folda (pictured) of the Fargo Catholic Diocese in North Dakota has exposed potentially hundreds of church members in Fargo, Grand Forks and Jamestown to the hepatitis A . State Immunization Program Manager Molly Howell says the risk is low, but officials feel it's important to alert people to the possible exposure. The diocese announced on Monday that Bishop John Folda is taking time off after being diagnosed with hepatitis A. The diocese says he contracted the infection through contaminated food while attending a conference for newly ordained bishops in Italy last month. Symptoms of hepatitis A include fever, tiredness, loss of appetite, nausea and abdominal discomfort. Fargo Catholic Diocese in North Dakota (pictured) is where the bishop is located .\n",
        "\"\"\"\n",
        "doc = nlp(text)\n",
        "print(end='\\n')\n",
        "print(type(doc))\n"
      ],
      "metadata": {
        "id": "oS0cjvvlhjkD",
        "colab": {
          "base_uri": "https://localhost:8080/"
        },
        "outputId": "a25c17d0-039b-4f58-c132-da0fe649aaa1"
      },
      "execution_count": null,
      "outputs": [
        {
          "output_type": "stream",
          "name": "stdout",
          "text": [
            "\n",
            "<class 'spacy.tokens.doc.Doc'>\n"
          ]
        }
      ]
    },
    {
      "cell_type": "code",
      "source": [
        "tokens = [token.text for token in doc]\n",
        "print(tokens)"
      ],
      "metadata": {
        "colab": {
          "base_uri": "https://localhost:8080/"
        },
        "id": "3Jw825iAjVCQ",
        "outputId": "c79f584d-2476-45b0-fd2c-6f4a13e539ff"
      },
      "execution_count": null,
      "outputs": [
        {
          "output_type": "stream",
          "name": "stdout",
          "text": [
            "['\\n', 'By', '.', 'Associated', 'Press', '.', 'PUBLISHED', ':', '.', '14:11', 'EST', ',', '25', 'October', '2013', '.', '|', '.', 'UPDATED', ':', '.', '15:36', 'EST', ',', '25', 'October', '2013', '.', 'The', 'bishop', 'of', 'the', 'Fargo', 'Catholic', 'Diocese', 'in', 'North', 'Dakota', 'has', 'exposed', 'potentially', 'hundreds', 'of', 'church', 'members', 'in', 'Fargo', ',', 'Grand', 'Forks', 'and', 'Jamestown', 'to', 'the', 'hepatitis', 'A', 'virus', 'in', 'late', 'September', 'and', 'early', 'October', '.', 'The', 'state', 'Health', 'Department', 'has', 'issued', 'an', 'advisory', 'of', 'exposure', 'for', 'anyone', 'who', 'attended', 'five', 'churches', 'and', 'took', 'communion', '.', 'Bishop', 'John', 'Folda', '(', 'pictured', ')', 'of', 'the', 'Fargo', 'Catholic', 'Diocese', 'in', 'North', 'Dakota', 'has', 'exposed', 'potentially', 'hundreds', 'of', 'church', 'members', 'in', 'Fargo', ',', 'Grand', 'Forks', 'and', 'Jamestown', 'to', 'the', 'hepatitis', 'A', '.', 'State', 'Immunization', 'Program', 'Manager', 'Molly', 'Howell', 'says', 'the', 'risk', 'is', 'low', ',', 'but', 'officials', 'feel', 'it', \"'s\", 'important', 'to', 'alert', 'people', 'to', 'the', 'possible', 'exposure', '.', 'The', 'diocese', 'announced', 'on', 'Monday', 'that', 'Bishop', 'John', 'Folda', 'is', 'taking', 'time', 'off', 'after', 'being', 'diagnosed', 'with', 'hepatitis', 'A.', 'The', 'diocese', 'says', 'he', 'contracted', 'the', 'infection', 'through', 'contaminated', 'food', 'while', 'attending', 'a', 'conference', 'for', 'newly', 'ordained', 'bishops', 'in', 'Italy', 'last', 'month', '.', 'Symptoms', 'of', 'hepatitis', 'A', 'include', 'fever', ',', 'tiredness', ',', 'loss', 'of', 'appetite', ',', 'nausea', 'and', 'abdominal', 'discomfort', '.', 'Fargo', 'Catholic', 'Diocese', 'in', 'North', 'Dakota', '(', 'pictured', ')', 'is', 'where', 'the', 'bishop', 'is', 'located', '.', '\\n']\n"
          ]
        }
      ]
    },
    {
      "cell_type": "code",
      "source": [
        "punctuation = punctuation + '\\n'\n",
        "punctuation"
      ],
      "metadata": {
        "colab": {
          "base_uri": "https://localhost:8080/",
          "height": 36
        },
        "id": "zXNiFTr2jxex",
        "outputId": "2241216c-6b60-49cd-f25f-d3b9c2788f0f"
      },
      "execution_count": null,
      "outputs": [
        {
          "output_type": "execute_result",
          "data": {
            "text/plain": [
              "'!\"#$%&\\'()*+,-./:;<=>?@[\\\\]^_`{|}~\\n'"
            ],
            "application/vnd.google.colaboratory.intrinsic+json": {
              "type": "string"
            }
          },
          "metadata": {},
          "execution_count": 104
        }
      ]
    },
    {
      "cell_type": "code",
      "source": [
        "word_frequencies = {}\n",
        "for word in doc:\n",
        "  if word.text.lower() not in stopwords:\n",
        "    if word.text.lower() not in punctuation:\n",
        "      if word.text not in word_frequencies.keys():\n",
        "        word_frequencies[word.text] = 1\n",
        "      else:\n",
        "        word_frequencies[word.text]+=1 \n",
        "\n",
        "word_frequencies"
      ],
      "metadata": {
        "id": "xZJlMj6Jj9fN"
      },
      "execution_count": null,
      "outputs": []
    },
    {
      "cell_type": "code",
      "source": [
        "max_frequency = max(word_frequencies.values())\n",
        "max_frequency"
      ],
      "metadata": {
        "colab": {
          "base_uri": "https://localhost:8080/"
        },
        "id": "WUYrxQzpk85S",
        "outputId": "f7394dc3-9d9b-4117-b5d4-58e95aa6a8ed"
      },
      "execution_count": null,
      "outputs": [
        {
          "output_type": "execute_result",
          "data": {
            "text/plain": [
              "5"
            ]
          },
          "metadata": {},
          "execution_count": 106
        }
      ]
    },
    {
      "cell_type": "code",
      "source": [
        "# Normalized Frequency w.r.t Max frequency\n",
        "\n",
        "\n",
        "for word in word_frequencies.keys():\n",
        "  word_frequencies[word] = word_frequencies[word]/max_frequency\n"
      ],
      "metadata": {
        "id": "F-zqfHQzlUma"
      },
      "execution_count": null,
      "outputs": []
    },
    {
      "cell_type": "code",
      "source": [
        "# Sentence Tokenization\n",
        "\n",
        "sentence_tokens = [sent for sent in doc.sents]\n",
        "print(sentence_tokens)"
      ],
      "metadata": {
        "id": "DWF2vQRMltGu",
        "colab": {
          "base_uri": "https://localhost:8080/"
        },
        "outputId": "50692e56-8a1f-45f1-fac9-d0d3b5779e5a"
      },
      "execution_count": null,
      "outputs": [
        {
          "output_type": "stream",
          "name": "stdout",
          "text": [
            "[\n",
            "By ., Associated Press ., PUBLISHED: ., 14:11 EST, 25 October 2013 ., | ., UPDATED: . 15:36 EST, 25 October 2013 ., The bishop of the Fargo Catholic Diocese in North Dakota has exposed potentially hundreds of church members in Fargo, Grand Forks and Jamestown to the hepatitis A virus in late September and early October., The state Health Department has issued an advisory of exposure for anyone who attended five churches and took communion., Bishop John Folda (pictured) of the Fargo Catholic Diocese in North Dakota has exposed potentially hundreds of church members in Fargo, Grand Forks and Jamestown to the hepatitis A ., State Immunization Program Manager Molly Howell says the risk is low, but officials feel it's important to alert people to the possible exposure., The diocese announced on Monday that Bishop John Folda is taking time off after being diagnosed with hepatitis A., The diocese says he contracted the infection through contaminated food while attending a conference for newly ordained bishops in Italy last month., Symptoms of hepatitis A include fever, tiredness, loss of appetite, nausea and abdominal discomfort., Fargo Catholic Diocese in North Dakota (pictured) is where the bishop is located .\n",
            "]\n"
          ]
        }
      ]
    },
    {
      "cell_type": "code",
      "source": [
        "sentence_scores = {}\n",
        "for sent in sentence_tokens:\n",
        "  for word in sent:\n",
        "    if(word.text.lower() in word_frequencies.keys()):\n",
        "      if sent not in sentence_scores.keys():\n",
        "        sentence_scores[sent] = word_frequencies[word.text.lower()]\n",
        "      else:\n",
        "        sentence_scores[sent] += word_frequencies[word.text.lower()]"
      ],
      "metadata": {
        "id": "KvDkifU6mKOl"
      },
      "execution_count": null,
      "outputs": []
    },
    {
      "cell_type": "code",
      "source": [
        "select_length = int(len(sentence_tokens)*0.3)\n",
        "select_length"
      ],
      "metadata": {
        "colab": {
          "base_uri": "https://localhost:8080/"
        },
        "id": "TDwlCMB5nGsY",
        "outputId": "5cdbde6c-e610-4a4e-fe87-3244d4b2ae99"
      },
      "execution_count": null,
      "outputs": [
        {
          "output_type": "execute_result",
          "data": {
            "text/plain": [
              "4"
            ]
          },
          "metadata": {},
          "execution_count": 110
        }
      ]
    },
    {
      "cell_type": "code",
      "source": [
        "summary = nlargest(select_length,sentence_scores,key = sentence_scores.get)"
      ],
      "metadata": {
        "id": "gWeB7SDVnQg1"
      },
      "execution_count": null,
      "outputs": []
    },
    {
      "cell_type": "code",
      "source": [
        "summary"
      ],
      "metadata": {
        "colab": {
          "base_uri": "https://localhost:8080/"
        },
        "id": "Phl_19SIni-o",
        "outputId": "6ee436c3-2fc6-4313-f926-b61e8e7706f1"
      },
      "execution_count": null,
      "outputs": [
        {
          "output_type": "execute_result",
          "data": {
            "text/plain": [
              "[The bishop of the Fargo Catholic Diocese in North Dakota has exposed potentially hundreds of church members in Fargo, Grand Forks and Jamestown to the hepatitis A virus in late September and early October.,\n",
              " Bishop John Folda (pictured) of the Fargo Catholic Diocese in North Dakota has exposed potentially hundreds of church members in Fargo, Grand Forks and Jamestown to the hepatitis A .,\n",
              " The diocese says he contracted the infection through contaminated food while attending a conference for newly ordained bishops in Italy last month.,\n",
              " State Immunization Program Manager Molly Howell says the risk is low, but officials feel it's important to alert people to the possible exposure.]"
            ]
          },
          "metadata": {},
          "execution_count": 112
        }
      ]
    },
    {
      "cell_type": "code",
      "source": [
        "# print(summary)\n",
        "# print(final_summary)\n",
        "# summary = ' '.join(Final_summary)\n",
        "final_summary = \"\"\n",
        "\n",
        "for sent in summary:\n",
        "  for word in sent:\n",
        "    final_summary += word.text + ' '\n",
        "print(final_summary)"
      ],
      "metadata": {
        "colab": {
          "base_uri": "https://localhost:8080/"
        },
        "id": "0cMubGZanl4l",
        "outputId": "4a07721a-70b2-4269-d2d5-48d4af33dc65"
      },
      "execution_count": null,
      "outputs": [
        {
          "output_type": "stream",
          "name": "stdout",
          "text": [
            "The bishop of the Fargo Catholic Diocese in North Dakota has exposed potentially hundreds of church members in Fargo , Grand Forks and Jamestown to the hepatitis A virus in late September and early October . Bishop John Folda ( pictured ) of the Fargo Catholic Diocese in North Dakota has exposed potentially hundreds of church members in Fargo , Grand Forks and Jamestown to the hepatitis A . The diocese says he contracted the infection through contaminated food while attending a conference for newly ordained bishops in Italy last month . State Immunization Program Manager Molly Howell says the risk is low , but officials feel it 's important to alert people to the possible exposure . \n"
          ]
        }
      ]
    },
    {
      "cell_type": "code",
      "source": [
        "!pip install Rouge"
      ],
      "metadata": {
        "colab": {
          "base_uri": "https://localhost:8080/"
        },
        "id": "8tVIcrBeqOj-",
        "outputId": "1d3f65c3-d1cc-42c8-a7b9-818e33b19e5c"
      },
      "execution_count": null,
      "outputs": [
        {
          "output_type": "stream",
          "name": "stdout",
          "text": [
            "Looking in indexes: https://pypi.org/simple, https://us-python.pkg.dev/colab-wheels/public/simple/\n",
            "Requirement already satisfied: Rouge in /usr/local/lib/python3.8/dist-packages (1.0.1)\n",
            "Requirement already satisfied: six in /usr/local/lib/python3.8/dist-packages (from Rouge) (1.15.0)\n"
          ]
        }
      ]
    },
    {
      "cell_type": "code",
      "source": [
        "from rouge import Rouge\n",
        "\n",
        "reference_summary = \"Bishop John Folda, of North Dakota, is taking time off after being diagnosed .\"\n",
        "generated_summary = final_summary\n",
        "\n",
        "rouge = Rouge()\n",
        "scores = rouge.get_scores(generated_summary, reference_summary)\n",
        "\n",
        "print(scores[0])\n"
      ],
      "metadata": {
        "colab": {
          "base_uri": "https://localhost:8080/"
        },
        "id": "ymz7xLTyqByW",
        "outputId": "c39201e9-f24e-4d13-a63c-d20aea123acf"
      },
      "execution_count": null,
      "outputs": [
        {
          "output_type": "stream",
          "name": "stdout",
          "text": [
            "{'rouge-1': {'r': 0.38461538461538464, 'p': 0.06756756756756757, 'f': 0.11494252619368482}, 'rouge-2': {'r': 0.08333333333333333, 'p': 0.011363636363636364, 'f': 0.019999997888000224}, 'rouge-l': {'r': 0.38461538461538464, 'p': 0.06756756756756757, 'f': 0.11494252619368482}}\n"
          ]
        }
      ]
    },
    {
      "cell_type": "code",
      "source": [
        "import spacy\n",
        "from spacy.lang.en.stop_words import STOP_WORDS\n",
        "from heapq import nlargest\n",
        "from string import punctuation\n"
      ],
      "metadata": {
        "colab": {
          "base_uri": "https://localhost:8080/"
        },
        "id": "niPbVaOX2eg0",
        "outputId": "5443fd93-4f8d-4f68-c173-012f74b77fb0"
      },
      "execution_count": null,
      "outputs": [
        {
          "output_type": "stream",
          "name": "stderr",
          "text": [
            "/usr/local/lib/python3.8/dist-packages/torch/cuda/__init__.py:497: UserWarning: Can't initialize NVML\n",
            "  warnings.warn(\"Can't initialize NVML\")\n"
          ]
        }
      ]
    },
    {
      "cell_type": "code",
      "source": [
        "import numpy as np\n",
        "from sklearn.feature_extraction.text import TfidfVectorizer\n",
        "\n",
        "# Example text\n",
        "text = \"\"\"\n",
        "By . Associated Press . PUBLISHED: . 14:11 EST, 25 October 2013 . | . UPDATED: . 15:36 EST, 25 October 2013 . The bishop of the Fargo Catholic Diocese in North Dakota has exposed potentially hundreds of church members in Fargo, Grand Forks and Jamestown to the hepatitis A virus in late September and early October. The state Health Department has issued an advisory of exposure for anyone who attended five churches and took communion. Bishop John Folda (pictured) of the Fargo Catholic Diocese in North Dakota has exposed potentially hundreds of church members in Fargo, Grand Forks and Jamestown to the hepatitis A . State Immunization Program Manager Molly Howell says the risk is low, but officials feel it's important to alert people to the possible exposure. The diocese announced on Monday that Bishop John Folda is taking time off after being diagnosed with hepatitis A. The diocese says he contracted the infection through contaminated food while attending a conference for newly ordained bishops in Italy last month. Symptoms of hepatitis A include fever, tiredness, loss of appetite, nausea and abdominal discomfort. Fargo Catholic Diocese in North Dakota (pictured) is where the bishop is located .\n",
        "\"\"\"\n",
        "\n",
        "# Cleaning the text\n",
        "# stopwords\n",
        "stopwords = list(STOP_WORDS)\n",
        "\n",
        "# punctuation\n",
        "punctuation = punctuation + '\\n'\n",
        "\n",
        "\n",
        "# Split the text into sentences\n",
        "sentences = text.split(\" . \")\n",
        "\n",
        "\n",
        "\n",
        "print(\"------------------------------------------------------\")\n",
        "\n",
        "# Create a TfidfVectorizer\n",
        "vectorizer = TfidfVectorizer()\n",
        "\n",
        "# Transform the sentences into a TF-IDF representation\n",
        "tfidf = vectorizer.fit_transform(sentences)\n",
        "feature_names = vectorizer.get_feature_names()\n",
        "# print(feature_names,end='\\n')\n",
        "\n",
        "# Find the n most important sentences\n",
        "n = int(len(text)*0.3)\n",
        "indices = np.argsort(tfidf.toarray().sum(axis=1))[-n:]\n",
        "most_important_sentences = [sentences[i] for i in indices]\n",
        "\n",
        "# Generate the text summary\n",
        "# summary = \" \".join(most_important_sentences) + \".\"\n",
        "# print(summary)\n",
        "# print(vectorizer)\n"
      ],
      "metadata": {
        "colab": {
          "base_uri": "https://localhost:8080/"
        },
        "id": "vNqjdvKuvWZQ",
        "outputId": "40ca1616-aa44-4b14-a788-0882ce7dfbc7"
      },
      "execution_count": null,
      "outputs": [
        {
          "output_type": "stream",
          "name": "stdout",
          "text": [
            "['\\nBy']\n",
            "['Associated', 'Press']\n",
            "['PUBLISHED:']\n",
            "['14:11', 'EST,', '25', 'October', '2013']\n",
            "['|']\n",
            "['UPDATED:']\n",
            "['15:36', 'EST,', '25', 'October', '2013']\n",
            "['The', 'bishop', 'of', 'the', 'Fargo', 'Catholic', 'Diocese', 'in', 'North', 'Dakota', 'has', 'exposed', 'potentially', 'hundreds', 'of', 'church', 'members', 'in', 'Fargo,', 'Grand', 'Forks', 'and', 'Jamestown', 'to', 'the', 'hepatitis', 'A', 'virus', 'in', 'late', 'September', 'and', 'early', 'October.', 'The', 'state', 'Health', 'Department', 'has', 'issued', 'an', 'advisory', 'of', 'exposure', 'for', 'anyone', 'who', 'attended', 'five', 'churches', 'and', 'took', 'communion.', 'Bishop', 'John', 'Folda', '(pictured)', 'of', 'the', 'Fargo', 'Catholic', 'Diocese', 'in', 'North', 'Dakota', 'has', 'exposed', 'potentially', 'hundreds', 'of', 'church', 'members', 'in', 'Fargo,', 'Grand', 'Forks', 'and', 'Jamestown', 'to', 'the', 'hepatitis', 'A']\n",
            "['State', 'Immunization', 'Program', 'Manager', 'Molly', 'Howell', 'says', 'the', 'risk', 'is', 'low,', 'but', 'officials', 'feel', \"it's\", 'important', 'to', 'alert', 'people', 'to', 'the', 'possible', 'exposure.', 'The', 'diocese', 'announced', 'on', 'Monday', 'that', 'Bishop', 'John', 'Folda', 'is', 'taking', 'time', 'off', 'after', 'being', 'diagnosed', 'with', 'hepatitis', 'A.', 'The', 'diocese', 'says', 'he', 'contracted', 'the', 'infection', 'through', 'contaminated', 'food', 'while', 'attending', 'a', 'conference', 'for', 'newly', 'ordained', 'bishops', 'in', 'Italy', 'last', 'month.', 'Symptoms', 'of', 'hepatitis', 'A', 'include', 'fever,', 'tiredness,', 'loss', 'of', 'appetite,', 'nausea', 'and', 'abdominal', 'discomfort.', 'Fargo', 'Catholic', 'Diocese', 'in', 'North', 'Dakota', '(pictured)', 'is', 'where', 'the', 'bishop', 'is', 'located', '.\\n']\n",
            "------------------------------------------------------\n"
          ]
        },
        {
          "output_type": "stream",
          "name": "stderr",
          "text": [
            "/usr/local/lib/python3.8/dist-packages/sklearn/utils/deprecation.py:87: FutureWarning: Function get_feature_names is deprecated; get_feature_names is deprecated in 1.0 and will be removed in 1.2. Please use get_feature_names_out instead.\n",
            "  warnings.warn(msg, category=FutureWarning)\n"
          ]
        }
      ]
    },
    {
      "cell_type": "markdown",
      "source": [
        "Supervised text summarization in Python can be performed without using deep learning by using traditional NLP techniques such as keyword extraction, sentence extraction, and text generation. Here are the general steps to perform supervised text summarization in Python without using deep learning:\n",
        "\n",
        "Preprocessing: Clean and preprocess the input text by removing stop words, stemming or lemmatizing the words, and converting the text into a suitable format for further processing.\n",
        "\n",
        "Keyword extraction: Extract the most important keywords from the input text using techniques such as TF-IDF, TextRank, or Latent Dirichlet Allocation.\n",
        "\n",
        "Sentence extraction: Select the most important sentences from the input text based on the keywords and their frequency, length, or centrality scores.\n",
        "\n",
        "Text generation: Generate a new text that summarizes the input text by rephrasing and condensing its content into a shorter form. You can use rule-based methods or algorithms such as templates and grammars to generate the summary text.\n",
        "\n",
        "Evaluation: Evaluate the quality of the generated summary by comparing it to a reference summary or using metrics such as ROUGE (Recall-Oriented Understudy for Gisting Evaluation) to measure its similarity to the input text."
      ],
      "metadata": {
        "id": "1wOrcnrww-k1"
      }
    },
    {
      "cell_type": "code",
      "source": [
        "nltk.download('all')"
      ],
      "metadata": {
        "id": "uQQbCxNlxXnw"
      },
      "execution_count": null,
      "outputs": []
    },
    {
      "cell_type": "code",
      "source": [
        "import nltk\n",
        "from nltk.corpus import stopwords\n",
        "from nltk.tokenize import word_tokenize, sent_tokenize\n",
        "from nltk.stem import PorterStemmer\n",
        "from sklearn.feature_extraction.text import TfidfVectorizer\n",
        "\n",
        "input_text = \"\"\"\n",
        "By . Associated Press . PUBLISHED: . 14:11 EST, 25 October 2013 . | . UPDATED: . 15:36 EST, 25 October 2013 . The bishop of the Fargo Catholic Diocese in North Dakota has exposed potentially hundreds of church members in Fargo, Grand Forks and Jamestown to the hepatitis A virus in late September and early October. The state Health Department has issued an advisory of exposure for anyone who attended five churches and took communion. Bishop John Folda (pictured) of the Fargo Catholic Diocese in North Dakota has exposed potentially hundreds of church members in Fargo, Grand Forks and Jamestown to the hepatitis A . State Immunization Program Manager Molly Howell says the risk is low, but officials feel it's important to alert people to the possible exposure. The diocese announced on Monday that Bishop John Folda is taking time off after being diagnosed with hepatitis A. The diocese says he contracted the infection through contaminated food while attending a conference for newly ordained bishops in Italy last month. Symptoms of hepatitis A include fever, tiredness, loss of appetite, nausea and abdominal discomfort. Fargo Catholic Diocese in North Dakota (pictured) is where the bishop is located .\n",
        "\"\"\"\n",
        "\n",
        "# Preprocessing\n",
        "stop_words = set(stopwords.words(\"english\"))\n",
        "tokens = word_tokenize(input_text)\n",
        "tokens = [word.lower() for word in tokens if word.isalpha() and word not in stop_words]\n",
        "\n",
        "# Keyword extraction\n",
        "vectorizer = TfidfVectorizer(stop_words=\"english\")\n",
        "tfidf_matrix = vectorizer.fit_transform([input_text])\n",
        "features = vectorizer.get_feature_names()\n",
        "scores = dict(zip(features, vectorizer.idf_))\n",
        "\n",
        "# Sentence extraction\n",
        "sentences = sent_tokenize(input_text)\n",
        "sentence_scores = {sent: 0 for sent in sentences}\n",
        "\n",
        "for word in tokens:\n",
        "    for sent in sentences:\n",
        "        if word in sent:\n",
        "            sentence_scores[sent] += scores[word]\n",
        "\n",
        "# Text generation\n",
        "most_important_sentence = max(sentence_scores, key=sentence_scores.get)\n",
        "generated_text = most_important_sentence\n",
        "\n",
        "print(generated_text)\n"
      ],
      "metadata": {
        "id": "uz4onmgWxOHL"
      },
      "execution_count": null,
      "outputs": []
    },
    {
      "cell_type": "markdown",
      "source": [
        "Linear Regression model for calculating the score of the sentences using Bag-of-words"
      ],
      "metadata": {
        "id": "iica6HlgQAlF"
      }
    },
    {
      "cell_type": "code",
      "source": [
        "import numpy as np\n",
        "from sklearn.feature_extraction.text import CountVectorizer\n",
        "from sklearn.linear_model import LinearRegression\n",
        "\n",
        "# Example text\n",
        "# text = \"This is the first sentence. This is the second sentence. This is the third sentence.\"\n",
        "text = \"\"\"\n",
        "By . Associated Press . PUBLISHED: . 14:11 EST, 25 October 2013 . | . UPDATED: . 15:36 EST, 25 October 2013 . The bishop of the Fargo Catholic Diocese in North Dakota has exposed potentially hundreds of church members in Fargo, Grand Forks and Jamestown to the hepatitis A virus in late September and early October. The state Health Department has issued an advisory of exposure for anyone who attended five churches and took communion. Bishop John Folda (pictured) of the Fargo Catholic Diocese in North Dakota has exposed potentially hundreds of church members in Fargo, Grand Forks and Jamestown to the hepatitis A . State Immunization Program Manager Molly Howell says the risk is low, but officials feel it's important to alert people to the possible exposure. The diocese announced on Monday that Bishop John Folda is taking time off after being diagnosed with hepatitis A. The diocese says he contracted the infection through contaminated food while attending a conference for newly ordained bishops in Italy last month. Symptoms of hepatitis A include fever, tiredness, loss of appetite, nausea and abdominal discomfort. Fargo Catholic Diocese in North Dakota (pictured) is where the bishop is located .\n",
        "\"\"\"\n",
        "\n",
        "# Split the text into sentences\n",
        "sentences = text.split(\".\")\n",
        "\n",
        "\n",
        "\n",
        "\n",
        "# Create a CountVectorizer\n",
        "vectorizer = CountVectorizer()\n",
        "\n",
        "# Transform the sentences into a bag-of-words representation\n",
        "bow = vectorizer.fit_transform(sentences)\n",
        "\n",
        "# Split the data into training and testing sets\n",
        "train_data = bow[:-1]\n",
        "train_target = np.array([1, 0, 0])\n",
        "test_data = bow[-1:]\n",
        "\n",
        "\n",
        "\n",
        "\n",
        "\n",
        "\n",
        "\n",
        "\n",
        "\n",
        "\n",
        "# print(train_data)\n",
        "\n",
        "# print(train_target)\n",
        "# print(test_data)\n",
        "# \n",
        "# Train the linear regression model on the training data\n",
        "# reg = LinearRegression().fit(train_data, train_target)\n",
        "\n",
        "# # Use the trained model to predict the sentence scores\n",
        "# sentence_scores = reg.predict(bow)\n",
        "\n",
        "# # Find the indices of the n most important sentences\n",
        "# n = 2\n",
        "# indices = np.argsort(sentence_scores)[-n:]\n",
        "# most_important_sentences = [sentences[i] for i in indices]\n",
        "\n",
        "# # Generate the text summary\n",
        "# summary = \" \".join(most_important_sentences) + \".\"\n",
        "# print(summary)\n"
      ],
      "metadata": {
        "colab": {
          "base_uri": "https://localhost:8080/"
        },
        "id": "u1IC2uK-QI-3",
        "outputId": "f7adc772-23ab-49a8-da65-56a311250278"
      },
      "execution_count": null,
      "outputs": [
        {
          "output_type": "stream",
          "name": "stdout",
          "text": [
            "[1 0 0]\n",
            "\n"
          ]
        }
      ]
    }
  ]
}